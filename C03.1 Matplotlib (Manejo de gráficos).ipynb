{
 "cells": [
  {
   "cell_type": "markdown",
   "metadata": {},
   "source": [
    "<img src=\"logo.png\">"
   ]
  },
  {
   "cell_type": "markdown",
   "metadata": {},
   "source": [
    "# Introducción\n",
    "\n",
    "En esta sección veremos cómo comenzar a usar **matplotlib** para realizar gráficas. "
   ]
  },
  {
   "cell_type": "code",
   "execution_count": null,
   "metadata": {},
   "outputs": [],
   "source": [
    "!pip install matplotlib "
   ]
  },
  {
   "cell_type": "code",
   "execution_count": null,
   "metadata": {},
   "outputs": [],
   "source": [
    "import matplotlib.pyplot as plt\n",
    "%matplotlib inline\n",
    "import numpy as np\n",
    "import pandas as pd"
   ]
  },
  {
   "cell_type": "markdown",
   "metadata": {},
   "source": [
    "## Generando gráficas de funciones matemáticas\n",
    "\n",
    "Para hacer gráficas de funciones, lo mas sencillo es generar una sucesión de valores para el eje X y luego aplicarles la función deseada con numpy."
   ]
  },
  {
   "cell_type": "code",
   "execution_count": null,
   "metadata": {
    "scrolled": true
   },
   "outputs": [],
   "source": [
    "X = np.linspace(-np.pi,np.pi,300,endpoint = True) #np.linspace(a,b,c,endpoint = True)\n",
    "seno = np.sin(X) \n",
    "coseno = np.cos(X)\n",
    "                \n",
    "plt.figure(figsize = (10,5))\n",
    "plt.plot(X,seno,color = \"red\",linewidth = 2, linestyle = \"dashed\", label = \"Seno\")\n",
    "plt.plot(X,coseno,color = \"blue\",linewidth = 1, linestyle = (0,(1,1)), label = \"Coseno\")\n"
   ]
  },
  {
   "cell_type": "markdown",
   "metadata": {},
   "source": [
    "Los linestyle pueden consultarse [aquí](https://matplotlib.org/3.1.0/gallery/lines_bars_and_markers/linestyles.html)"
   ]
  },
  {
   "cell_type": "markdown",
   "metadata": {},
   "source": [
    "### Estableciendo límites en el gráfico"
   ]
  },
  {
   "cell_type": "code",
   "execution_count": null,
   "metadata": {},
   "outputs": [],
   "source": [
    "plt.plot(X,seno,color = \"red\",linewidth = 2, linestyle = \"dashed\", label = \"Seno\") \n",
    "plt.xlim(X.min() * 1.2, X.max() * 1.2) +\n",
    "plt.ylim(coseno.min() * 1.1, coseno.max() * 1.1)"
   ]
  },
  {
   "cell_type": "markdown",
   "metadata": {},
   "source": [
    "También podemos modificar las ticks (es decir, los valores impresos en eje x y eje y)."
   ]
  },
  {
   "cell_type": "code",
   "execution_count": null,
   "metadata": {},
   "outputs": [],
   "source": [
    "plt.xticks([-np.pi,-np.pi / 2,-np.pi / 4, 0,np.pi / 4,np.pi / 2,np.pi])\n",
    "plt.yticks([-1,-0.5,0,0.5,1])\n"
   ]
  },
  {
   "cell_type": "markdown",
   "metadata": {},
   "source": [
    "### Compatibilidad de Jupyter con markdown\n",
    "\n"
   ]
  },
  {
   "cell_type": "markdown",
   "metadata": {},
   "source": [
    "### ejemplo de latex\n",
    "\n",
    "El número pi en latex se escribe como $\\pi$"
   ]
  },
  {
   "cell_type": "code",
   "execution_count": null,
   "metadata": {},
   "outputs": [],
   "source": [
    "plt.xticks([-np.pi,-np.pi / 2,-np.pi / 4, 0,np.pi / 4,np.pi / 2,np.pi],\n",
    "          [r\"$-\\pi$\",r'$-\\pi/2$',r'$-\\pi/4$',r'$0$',r'$\\pi/4$',r'$\\pi/2$',r'$\\pi$'])\n",
    "plt.yticks([-1,-0.5,0,0.5,1],[\"a\",\"b\",\"c\",\"d\",\"e\"])"
   ]
  },
  {
   "cell_type": "code",
   "execution_count": null,
   "metadata": {},
   "outputs": [],
   "source": [
    "plt.plot(X,seno,color = \"red\",linewidth = 2, linestyle = \"--\",label=\"Seno\")\n",
    "plt.plot(X,coseno,color = \"blue\",linewidth = 1, linestyle = \"-\",label=\"Coseno\")\n",
    "\n",
    "plt.xlim(X.min() * 1.2, X.max() * 1.2)\n",
    "plt.ylim(coseno.min() * 1.1, coseno.max() * 1.1)\n",
    "\n",
    "plt.xticks([-np.pi,-np.pi / 2,-np.pi / 4, 0,np.pi / 4,np.pi / 2,np.pi],\n",
    "          [r'$-\\pi$',r'$-\\pi/2$',r'$-\\pi/4$',r'$0$',r'$\\pi/4$',r'$\\pi/2$',r'$\\pi$'])\n",
    "\n",
    "plt.legend(loc = \"best\",frameon = True)"
   ]
  },
  {
   "cell_type": "markdown",
   "metadata": {},
   "source": [
    "## Áreas debajo de curvas\n",
    "\n",
    "$$\\int_{-\\pi}^\\pi\\int_0^{\\cos(x)}\\,\\mathrm{d}y\\,\\mathrm{d}x$$"
   ]
  },
  {
   "cell_type": "code",
   "execution_count": null,
   "metadata": {},
   "outputs": [],
   "source": [
    "plt.fill_between(X,seno,coseno,coseno>seno,color = \"blue\",alpha = 0.5)\n",
    "plt.plot(X,coseno,color = \"blue\",linewidth = 1, linestyle = \"--\",label=\"Coseno\")\n",
    "plt.plot(X,seno,color = \"red\",linewidth = 1, linestyle = \"-\",label=\"Seno\")"
   ]
  },
  {
   "cell_type": "markdown",
   "metadata": {},
   "source": [
    "## Subgráficos\n",
    "\n",
    "Se trata de gráficos dentro de un gráfico mayor.\n",
    "\n",
    "<img src=\"subplots.png\" width=\"700\">"
   ]
  },
  {
   "cell_type": "code",
   "execution_count": null,
   "metadata": {},
   "outputs": [],
   "source": [
    "X1 = np.linspace(0,5,20)\n",
    "Y1 = np.exp(X1)\n",
    "Y2 = - (X1 ** 2)\n",
    "\n",
    "plt.subplot(2,1,1)\n",
    "plt.plot(X1,Y1,color = \"red\",linewidth = 1, linestyle = \"--\")\n",
    "plt.yticks(list(range(0,148)))\n",
    "\n",
    "plt.subplot(2,1,2)\n",
    "plt.plot(X1,Y2,color = \"blue\",linewidth = 1, linestyle = (0, (1, 10)))\n",
    "plt.xticks([1,2,3])\n"
   ]
  },
  {
   "cell_type": "markdown",
   "metadata": {},
   "source": [
    "### Método por orientación a objetos\n",
    "\n",
    "Podemos ver la graficación mediante objetos."
   ]
  },
  {
   "cell_type": "code",
   "execution_count": null,
   "metadata": {},
   "outputs": [],
   "source": [
    "x = np.linspace(-np.pi,np.pi,20)\n",
    "fig, axes = plt.subplots(nrows = 1, ncols = 3, figsize = (18,5))\n",
    "\n",
    "axes[0].plot(x,x**2,x,x**3+x)\n",
    "axes[0].set_title(\"Funciones polinomiales\")\n",
    "axes[0].set_xlabel(\"tiempo\")\n",
    "axes[0].legend(loc = \"best\", frameon = False)\n",
    "\n",
    "axes[1].plot(x,(x**2)/(x+1))\n",
    "axes[1].set_title(\"Funciones racionales\")\n",
    "axes[1].text(0,0,r\"$\\frac{x^2}{x+1}$\",fontsize=20)\n",
    "\n",
    "axes[2].plot(x,np.cos(x),x,np.sin(x))\n",
    "axes[2].set_title(\"Funciones trigonométricas\")\n",
    "axes[2].set_xlim([-2*np.pi , 2*np.pi])\n"
   ]
  },
  {
   "cell_type": "code",
   "execution_count": null,
   "metadata": {},
   "outputs": [],
   "source": [
    "fig\n"
   ]
  },
  {
   "cell_type": "markdown",
   "metadata": {},
   "source": [
    "## Exportar e importar el gráfico"
   ]
  },
  {
   "cell_type": "code",
   "execution_count": null,
   "metadata": {},
   "outputs": [],
   "source": [
    "#Exportación\n",
    "\n",
    "fig.savefig(\"C:/Users/hp master/Documents/SciData/Py_CDD/mis_graficas.jpg\")"
   ]
  },
  {
   "cell_type": "code",
   "execution_count": null,
   "metadata": {},
   "outputs": [],
   "source": [
    "# importación\n",
    "\n",
    "import matplotlib.image as mpimg"
   ]
  },
  {
   "cell_type": "code",
   "execution_count": null,
   "metadata": {},
   "outputs": [],
   "source": [
    "img = mpimg.imread(\"C:/Users/hp master/Documents/SciData/Py_CDD/mis_graficas.jpg\")\n",
    "img.shape"
   ]
  },
  {
   "cell_type": "code",
   "execution_count": null,
   "metadata": {},
   "outputs": [],
   "source": [
    "mpimg.show(img)"
   ]
  },
  {
   "cell_type": "markdown",
   "metadata": {},
   "source": [
    "# Personalización de gráficos\n",
    "\n",
    "En esta sección veremos opciones mas avanzadas para personalizar gráficos. El conjunto de datos que trabajaremos es [kc_house_data](https://github.com/scidatmath2020/Ciencia-de-datos-con-Python/blob/master/kc_house_data.csv)\n",
    "\n"
   ]
  },
  {
   "cell_type": "code",
   "execution_count": null,
   "metadata": {},
   "outputs": [],
   "source": [
    "import matplotlib.ticker as mtick"
   ]
  },
  {
   "cell_type": "code",
   "execution_count": null,
   "metadata": {},
   "outputs": [],
   "source": [
    "data = pd.read_csv(\"C:/Users/hp master/Documents/SciData/Py_CDD/kc_house_data.csv\")\n",
    "np.random.seed(2020)\n",
    "df = data.sample(100)\n",
    "df.head()"
   ]
  },
  {
   "cell_type": "code",
   "execution_count": null,
   "metadata": {},
   "outputs": [],
   "source": [
    "x = df[\"sqft_living\"]\n",
    "y = df[\"price\"]"
   ]
  },
  {
   "cell_type": "code",
   "execution_count": null,
   "metadata": {},
   "outputs": [],
   "source": [
    "fig, axes = plt.subplots(figsize = (10,6))\n",
    "axes.scatter(x,y,color = \"blue\")"
   ]
  },
  {
   "cell_type": "code",
   "execution_count": null,
   "metadata": {},
   "outputs": [],
   "source": [
    "axes.spines[\"top\"].set_visible(False)\n",
    "axes.spines[\"left\"].set_visible(False)\n",
    "fig"
   ]
  },
  {
   "cell_type": "code",
   "execution_count": null,
   "metadata": {},
   "outputs": [],
   "source": [
    "axes.set_title(r\"Tamaño de la casa en $ft^2$ vs precio\",fontsize = 20)\n",
    "axes.set_xlabel(\"Tamaño\",fontsize=15)\n",
    "axes.set_ylabel(\"Precio\",fontsize=15)\n",
    "fig"
   ]
  },
  {
   "cell_type": "code",
   "execution_count": null,
   "metadata": {},
   "outputs": [],
   "source": [
    "y_format = \"${x:,.2f}\"\n",
    "y_tick = mtick.StrMethodFormatter(y_format)\n",
    "axes.yaxis.set_major_formatter(y_tick)\n",
    "\n",
    "x_format = r\"{x:,.0f} $ft^2$\"\n",
    "x_tick = mtick.StrMethodFormatter(x_format)\n",
    "axes.xaxis.set_major_formatter(x_tick)\n",
    "\n",
    "fig"
   ]
  },
  {
   "cell_type": "code",
   "execution_count": null,
   "metadata": {},
   "outputs": [],
   "source": [
    "axes.scatter(x,y, s=200,marker = \"+\",color = \"#FF5733\",alpha=0.8)\n",
    "fig"
   ]
  },
  {
   "cell_type": "code",
   "execution_count": null,
   "metadata": {},
   "outputs": [],
   "source": [
    "axes.grid(color = \"grey\",linestyle=\"-\",linewidth = 0.25,alpha=0.5)\n",
    "fig"
   ]
  },
  {
   "cell_type": "code",
   "execution_count": null,
   "metadata": {},
   "outputs": [],
   "source": [
    "axes.scatter(x,y,s=400,marker = \"o\",c=df[\"bathrooms\"],cmap=\"Reds\",alpha=0.8)\n",
    "fig"
   ]
  },
  {
   "cell_type": "code",
   "execution_count": null,
   "metadata": {},
   "outputs": [],
   "source": [
    "axes.scatter(x,y,s=300, c = df[\"bathrooms\"], marker = \"o\",cmap = \"Reds\",alpha=0.8)\n",
    "axes.scatter(x,y,color = \"red\")\n",
    "fig"
   ]
  },
  {
   "cell_type": "code",
   "execution_count": null,
   "metadata": {},
   "outputs": [],
   "source": [
    "corr = round(np.corrcoef(x,y)[0][1],2)"
   ]
  },
  {
   "cell_type": "code",
   "execution_count": null,
   "metadata": {},
   "outputs": [],
   "source": [
    "corr"
   ]
  },
  {
   "cell_type": "code",
   "execution_count": null,
   "metadata": {},
   "outputs": [],
   "source": [
    "axes.scatter(x,y,s=150, marker = \"*\",color = \"black\",alpha=0.5,label=f\"Correlación = {corr}\")\n",
    "axes.legend(fancybox=True,prop={\"size\":14},loc=\"best\")\n",
    "\n",
    "fig"
   ]
  }
 ],
 "metadata": {
  "kernelspec": {
   "display_name": "Python 3",
   "language": "python",
   "name": "python3"
  },
  "language_info": {
   "codemirror_mode": {
    "name": "ipython",
    "version": 3
   },
   "file_extension": ".py",
   "mimetype": "text/x-python",
   "name": "python",
   "nbconvert_exporter": "python",
   "pygments_lexer": "ipython3",
   "version": "3.7.7"
  }
 },
 "nbformat": 4,
 "nbformat_minor": 4
}
