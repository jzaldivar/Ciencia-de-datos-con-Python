{
 "cells": [
  {
   "cell_type": "markdown",
   "metadata": {},
   "source": [
    "<img src=\"logo.png\">"
   ]
  },
  {
   "cell_type": "code",
   "execution_count": null,
   "metadata": {},
   "outputs": [],
   "source": [
    "import matplotlib.pyplot as plt\n",
    "import pandas as pd\n",
    "import numpy as np\n",
    "%matplotlib inline"
   ]
  },
  {
   "cell_type": "markdown",
   "metadata": {},
   "source": [
    "## Scatter: gráficos de puntos"
   ]
  },
  {
   "cell_type": "code",
   "execution_count": null,
   "metadata": {
    "jupyter": {
     "outputs_hidden": false
    }
   },
   "outputs": [],
   "source": [
    "x = np.linspace(-5,5,20)\n",
    "y = x**2\n",
    "plt.scatter(x,y, s=200, color='yellow',marker='.',edgecolors='red')"
   ]
  },
  {
   "cell_type": "markdown",
   "metadata": {},
   "source": [
    "## Gráficos de barras"
   ]
  },
  {
   "cell_type": "code",
   "execution_count": null,
   "metadata": {},
   "outputs": [],
   "source": [
    "classes = ['C1', 'C2', 'C3', 'C4']\n",
    "colors  = ['#FF5733', '#3533FF', '#33FF5D', '#FDFF33']\n",
    "numerical = [[10, 15, 5, 7],\n",
    "             [1, 3, 4, 9],\n",
    "             [4, 15, 8, 10],\n",
    "             [7, 6, 13, 8]]\n",
    "\n",
    "number_groups = len(classes) \n",
    "bin_width = 0.2\n",
    "\n",
    "fig, axes = plt.subplots(figsize=(8,6))\n",
    "\n",
    "for i in range(number_groups):                        \n",
    "    axes.bar(x=np.arange(len(classes)) + i*bin_width,    \n",
    "           height=numerical[i],\n",
    "           width=bin_width,\n",
    "           color=colors[i],\n",
    "           align='center')\n",
    "\n",
    "axes.set_xticks(np.arange(len(classes)) + 0.4)\n",
    "axes.set_xticklabels(classes)\n"
   ]
  },
  {
   "cell_type": "markdown",
   "metadata": {},
   "source": [
    "## Histogramas"
   ]
  },
  {
   "cell_type": "code",
   "execution_count": null,
   "metadata": {
    "jupyter": {
     "outputs_hidden": false
    }
   },
   "outputs": [],
   "source": [
    "np.random.seed(2020)\n",
    "x = np.random.sample(50)\n",
    "n, bins, patches = plt.hist(x, bins=20, facecolor='orange', alpha=0.7, density=True)\n",
    "plt.setp(patches[3], facecolor = 'blue')\n",
    "plt.xlabel('bins')\n",
    "plt.ylabel('Values')\n",
    "plt.grid(color='gray', linestyle='-', linewidth=0.25, alpha=0)"
   ]
  },
  {
   "cell_type": "markdown",
   "metadata": {},
   "source": [
    "n: is the number of counts in each bin of the histogram\n",
    "\n",
    "bins: is the left hand edge of each bin\n",
    "\n",
    "patches: is the individual patches used to create the histogram, e.g a collection of rectangles"
   ]
  },
  {
   "cell_type": "markdown",
   "metadata": {},
   "source": [
    "## Gráfico de pastel"
   ]
  },
  {
   "cell_type": "code",
   "execution_count": null,
   "metadata": {
    "jupyter": {
     "outputs_hidden": false
    }
   },
   "outputs": [],
   "source": [
    "# Pie chart, where the slices are ordered and plotted counter-clockwise:\n",
    "labels = 'Segment 1', 'Segment 2', 'Segment 3', 'Segment 4'\n",
    "sizes = [30, 35, 25, 10]  # percentages, the sum of all of them must to be 100%\n",
    "resaltado = (0, 0.1, 0, 0)  # only \"explode\" the 2nd slice (i.e. 'Segment 2')\n",
    "\n",
    "fig, ax = plt.subplots()\n",
    "ax.pie(sizes, explode=resaltado, labels=labels, autopct='%1.1f%%', shadow=False, startangle=90)\n",
    "ax.axis('equal')  # Equal aspect ratio ensures that pie is drawn as a circle."
   ]
  },
  {
   "cell_type": "markdown",
   "metadata": {},
   "source": [
    "## Gráfico de cajas"
   ]
  },
  {
   "cell_type": "markdown",
   "metadata": {},
   "source": [
    "<img src=\"boxplot.png\">"
   ]
  },
  {
   "cell_type": "code",
   "execution_count": null,
   "metadata": {
    "jupyter": {
     "outputs_hidden": false
    }
   },
   "outputs": [],
   "source": [
    "high = np.random.rand(20) + 0.5\n",
    "center = np.random.rand(20)\n",
    "low = np.random.rand(20) - 0.5\n",
    "\n",
    "data = [high, center, low]\n",
    "plt.boxplot(data, notch=False, vert=True, patch_artist=True);"
   ]
  },
  {
   "cell_type": "code",
   "execution_count": null,
   "metadata": {},
   "outputs": [],
   "source": [
    "# Con notch\n",
    "plt.boxplot(data, notch=True, vert=True, patch_artist=True);"
   ]
  },
  {
   "cell_type": "markdown",
   "metadata": {},
   "source": [
    "## Gráfico de violín"
   ]
  },
  {
   "cell_type": "code",
   "execution_count": null,
   "metadata": {},
   "outputs": [],
   "source": [
    "plt.figure(figsize=(9,4))\n",
    "plt.violinplot(data, widths=0.40, vert=True, showmeans=True, showextrema=True, showmedians=True);"
   ]
  },
  {
   "cell_type": "code",
   "execution_count": null,
   "metadata": {},
   "outputs": [],
   "source": [
    "fig, axes = plt.subplots(figsize=(9, 4))\n",
    "axes.violinplot(data, widths=0.40, vert=True, showmeans=True, showextrema=True, showmedians=True)\n",
    "axes.set_title('Violinplot', fontsize=10)\n",
    "plt.setp(axes, xticks=[i+1 for i in range(len(data))], xticklabels=['high','center','low']);"
   ]
  },
  {
   "cell_type": "markdown",
   "metadata": {},
   "source": [
    "## Gráfico de burbujas"
   ]
  },
  {
   "cell_type": "code",
   "execution_count": null,
   "metadata": {
    "jupyter": {
     "outputs_hidden": false
    }
   },
   "outputs": [],
   "source": [
    "#plt.style.use('ggplot')\n",
    "df = pd.DataFrame(np.random.rand(50, 3), columns=['x','y','z'])\n",
    "df.plot(kind='scatter',x='x',y='y',s=df['z']*400, color='red', edgecolors='black');\n",
    "# s is the size of the bubble"
   ]
  },
  {
   "cell_type": "markdown",
   "metadata": {},
   "source": [
    "## 3D Plots"
   ]
  },
  {
   "cell_type": "code",
   "execution_count": null,
   "metadata": {},
   "outputs": [],
   "source": [
    "from mpl_toolkits.mplot3d.axes3d import Axes3D"
   ]
  },
  {
   "cell_type": "code",
   "execution_count": null,
   "metadata": {
    "jupyter": {
     "outputs_hidden": false
    }
   },
   "outputs": [],
   "source": [
    "img = plt.figure()\n",
    "ax = Axes3D(img)\n",
    "x = np.arange(-5,5,0.25)\n",
    "y = np.arange(-5,5,0.25)\n",
    "X, Y = np.meshgrid(x, y)\n",
    "V = np.sqrt(X**2 + Y**2)\n",
    "Z = np.sin(V)\n",
    "ax.plot_surface(X, Y, Z, rstride=2, cstride=2, cmap='hot', linewidth=0)"
   ]
  },
  {
   "cell_type": "markdown",
   "metadata": {},
   "source": [
    "#### Color bar:"
   ]
  },
  {
   "cell_type": "code",
   "execution_count": null,
   "metadata": {
    "jupyter": {
     "outputs_hidden": false
    }
   },
   "outputs": [],
   "source": [
    "p = ax.plot_surface(X,Y,Z, rstride=2, cstride=2, cmap='hot',linewidth=0)\n",
    "img.colorbar(p, shrink=0.5)\n",
    "img\n",
    "# The rstride and cstride parameters help in sizing the cell on the surface."
   ]
  },
  {
   "cell_type": "markdown",
   "metadata": {},
   "source": [
    "#### Setting the view angle:"
   ]
  },
  {
   "cell_type": "code",
   "execution_count": null,
   "metadata": {
    "jupyter": {
     "outputs_hidden": false
    }
   },
   "outputs": [],
   "source": [
    "# setting the view at 50 degrees elevation and 30 degrees angle:\n",
    "fig = plt.figure()\n",
    "ax = Axes3D(fig)\n",
    "ax.view_init(elev=50., azim=30)\n",
    "ax.plot_surface(X, Y, Z, rstride=1, cstride=1, cmap='hot')"
   ]
  },
  {
   "cell_type": "markdown",
   "metadata": {},
   "source": [
    "## Curvas 3D"
   ]
  },
  {
   "cell_type": "code",
   "execution_count": null,
   "metadata": {},
   "outputs": [],
   "source": [
    "fig = plt.figure(figsize=(8,6))\n",
    "ax = fig.gca(projection='3d')\n",
    "\n",
    "v = np.linspace(-5 * np.pi, 5 * np.pi, 100)\n",
    "z = np.linspace(-3, 3, 100)\n",
    "r = z**2 + 1\n",
    "x = r * np.sin(v)\n",
    "y = r * np.cos(v)\n",
    " \n",
    "ax.plot(x, y, z, label='3D curve')\n",
    "ax.legend(loc='best')"
   ]
  },
  {
   "cell_type": "markdown",
   "metadata": {},
   "source": [
    "## Reference:\n",
    "\n",
    "https://matplotlib.org/2.0.1/examples/statistics/index.html"
   ]
  }
 ],
 "metadata": {
  "anaconda-cloud": {},
  "kernelspec": {
   "display_name": "Python 3",
   "language": "python",
   "name": "python3"
  },
  "language_info": {
   "codemirror_mode": {
    "name": "ipython",
    "version": 3
   },
   "file_extension": ".py",
   "mimetype": "text/x-python",
   "name": "python",
   "nbconvert_exporter": "python",
   "pygments_lexer": "ipython3",
   "version": "3.8.3"
  },
  "toc": {
   "base_numbering": 1,
   "nav_menu": {},
   "number_sections": true,
   "sideBar": true,
   "skip_h1_title": false,
   "title_cell": "Table of Contents",
   "title_sidebar": "Contents",
   "toc_cell": false,
   "toc_position": {},
   "toc_section_display": true,
   "toc_window_display": false
  },
  "varInspector": {
   "cols": {
    "lenName": 16,
    "lenType": 16,
    "lenVar": 40
   },
   "kernels_config": {
    "python": {
     "delete_cmd_postfix": "",
     "delete_cmd_prefix": "del ",
     "library": "var_list.py",
     "varRefreshCmd": "print(var_dic_list())"
    },
    "r": {
     "delete_cmd_postfix": ") ",
     "delete_cmd_prefix": "rm(",
     "library": "var_list.r",
     "varRefreshCmd": "cat(var_dic_list()) "
    }
   },
   "types_to_exclude": [
    "module",
    "function",
    "builtin_function_or_method",
    "instance",
    "_Feature"
   ],
   "window_display": false
  }
 },
 "nbformat": 4,
 "nbformat_minor": 4
}
