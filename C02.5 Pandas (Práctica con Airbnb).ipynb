{
 "cells": [
  {
   "cell_type": "markdown",
   "metadata": {},
   "source": [
    "Supongamos que somos un agente de Airbnb localizado en CDMX, y tenemos que atender peticiones de varios clientes. Tenemos un archivo llamado airbnb_cdmx.csv donde tenemos información de todos los alojamientos de Airbnb en CDMX"
   ]
  },
  {
   "cell_type": "code",
   "execution_count": null,
   "metadata": {},
   "outputs": [],
   "source": [
    "import numpy as np\n",
    "import pandas as pd"
   ]
  },
  {
   "cell_type": "markdown",
   "metadata": {},
   "source": [
    "``airbnb = pd.read_csv(\"Direccion donde descargaste el archivo airbnb_cdmx.csv /airbnb_cdmx.csv\")\n",
    "airbnb``"
   ]
  },
  {
   "cell_type": "markdown",
   "metadata": {},
   "source": [
    "En concreto el dataset tiene las siguientes variables:\n",
    "\n",
    "* id: el identificador de la propiedad\n",
    "* host_id: el identificador del dueño de la propiedad\n",
    "* neighborhood_cleansed: alcaldía en CDMX\n",
    "* property_type: tipo de propiedad \n",
    "* room_type: tipo de habitación\n",
    "* accommodates: El numero de personas que se pueden alojar en la propiedad price: precio (en pesos mexicanos)\n",
    "* minimum_nights, maximum_nights: mínimo y máximo de noches\n",
    "* bedrooms: El número de habitaciones\n",
    "* beds: número de camas\n",
    "* cancellation_policy: política de cancelación\n",
    "* number_of_reviews: El numero de opiniones\n",
    "* review_scores_accuracy: Puntuacion media del apartamento"
   ]
  },
  {
   "cell_type": "code",
   "execution_count": null,
   "metadata": {},
   "outputs": [],
   "source": [
    "airbnb = pd.read_csv(\"airbnb_cdmx.csv\")\n",
    "airbnb.head()"
   ]
  },
  {
   "cell_type": "markdown",
   "metadata": {},
   "source": [
    "## Alicia y su familia\n",
    "\n",
    "Alicia va a ir a CDMX durante una semana con su marido y sus 2 hijos. Están buscando un apartamento con habitaciones separadas para los padres y los hijos. No les importa donde alojarse o el precio, simplemente quieren tener una experiencia agradable. Esto significa que solo aceptan lugares con más de 10 críticas con una puntuación mayor de 4. Cuando seleccionemos habitaciones para Alicia, tenemos que asegurarnos de ordenar las habitaciones de mejor a peor puntuación. Para aquellas habitaciones que tienen la misma puntuación, debemos mostrar antes aquellas con más críticas. Debemos a lo más la tercera parte del total de posibilidades."
   ]
  },
  {
   "cell_type": "code",
   "execution_count": null,
   "metadata": {},
   "outputs": [],
   "source": [
    "\"\"\" \n",
    "noches_estancia = 6\n",
    "habitaciones >= 2\n",
    "num_criticas > 10\n",
    "puntuacion > 4\n",
    "Ordenar descendente por puntuación\n",
    "Misma puntuación, ordenar por num_críticas descendente\n",
    "Mostrar solo 1/3 de los resultados\n",
    "\"\"\""
   ]
  },
  {
   "cell_type": "code",
   "execution_count": null,
   "metadata": {},
   "outputs": [],
   "source": [
    "# Filtrar\n",
    "# Noches:\n",
    "# Se quiere quedar exactamente 6 noches.\n",
    "# Las propiedades que le sirven son aquellas que:\n",
    "# - no pidan un mínimo mayor a 6 y\n",
    "# - no tengan un máximo menor a 6.\n",
    "f1 = airbnb[\"maximum_nights\"] >= 6\n",
    "f2 = airbnb[\"minimum_nights\"] <= 6\n",
    "# Habitaciones separadas para papás e hijos\n",
    "f3 = airbnb[\"bedrooms\"] >= 2\n",
    "# Mínimo 4 personas\n",
    "f4 = airbnb[\"accommodates\"] >= 4\n",
    "# Mínimo 10 críticas\n",
    "f5 = airbnb[\"number_of_reviews\"] > 10\n",
    "# Puntuación mínima de 4\n",
    "f6 = airbnb[\"review_scores_accuracy\"] > 4\n",
    "# Combinar filtros\n",
    "opciones = airbnb[f1 & f2 & f3 & f4 & f5 & f6]\n",
    "opciones"
   ]
  },
  {
   "cell_type": "code",
   "execution_count": null,
   "metadata": {},
   "outputs": [],
   "source": [
    "# Ordenar\n",
    "opciones.sort_values(by=[\"review_scores_accuracy\", \"number_of_reviews\"],\n",
    "                     ascending=[False, False],\n",
    "                     inplace=True)"
   ]
  },
  {
   "cell_type": "code",
   "execution_count": null,
   "metadata": {},
   "outputs": [],
   "source": [
    "# Limitar a la tercera parte\n",
    "num_opciones = opciones.shape[0] // 3\n",
    "opciones = opciones.head(num_opciones)\n",
    "opciones"
   ]
  }
 ],
 "metadata": {
  "kernelspec": {
   "display_name": "Python 3",
   "language": "python",
   "name": "python3"
  },
  "language_info": {
   "codemirror_mode": {
    "name": "ipython",
    "version": 3
   },
   "file_extension": ".py",
   "mimetype": "text/x-python",
   "name": "python",
   "nbconvert_exporter": "python",
   "pygments_lexer": "ipython3",
   "version": "3.7.6"
  }
 },
 "nbformat": 4,
 "nbformat_minor": 4
}
