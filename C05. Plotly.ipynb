{
 "cells": [
  {
   "cell_type": "markdown",
   "metadata": {},
   "source": [
    "<img src=\"logo.png\">"
   ]
  },
  {
   "cell_type": "code",
   "execution_count": null,
   "metadata": {},
   "outputs": [],
   "source": [
    "!pip install plotly_express"
   ]
  },
  {
   "cell_type": "code",
   "execution_count": null,
   "metadata": {},
   "outputs": [],
   "source": [
    "import plotly.express as px\n",
    "import numpy as np\n",
    "import pandas as pd\n",
    "import seaborn as sns"
   ]
  },
  {
   "cell_type": "code",
   "execution_count": null,
   "metadata": {},
   "outputs": [],
   "source": [
    "df = px.data.tips()\n",
    "df.head()"
   ]
  },
  {
   "cell_type": "markdown",
   "metadata": {},
   "source": [
    "## Templates:\n",
    "'ggplot2', 'seaborn', 'simple_white', 'plotly',\n",
    "         'plotly_white', 'plotly_dark', 'presentation', 'xgridoff',\n",
    "         'ygridoff', 'gridon', 'none'"
   ]
  },
  {
   "cell_type": "markdown",
   "metadata": {},
   "source": [
    "## Color maps:\n",
    "- qualitative, sequential, diverging, cyclical, colorbrewer, cmocean, carto"
   ]
  },
  {
   "cell_type": "code",
   "execution_count": null,
   "metadata": {},
   "outputs": [],
   "source": [
    "# qualitative, sequential, diverging, cyclical, colorbrewer, cmocean, carto\n",
    "px.colors.qualitative.swatches()"
   ]
  },
  {
   "cell_type": "markdown",
   "metadata": {},
   "source": [
    "## Histogram:"
   ]
  },
  {
   "cell_type": "code",
   "execution_count": null,
   "metadata": {},
   "outputs": [],
   "source": [
    "px.histogram(data_frame=df\n",
    "     , x=\"tip\"\n",
    "     , title=\"Tip Distribution\"\n",
    "     , template='ggplot2'\n",
    "     )"
   ]
  },
  {
   "cell_type": "markdown",
   "metadata": {},
   "source": [
    "## Stacked Histogram"
   ]
  },
  {
   "cell_type": "code",
   "execution_count": null,
   "metadata": {},
   "outputs": [],
   "source": [
    "px.histogram(data_frame=df\n",
    "             , x=\"tip\"\n",
    "             , color='sex'\n",
    "             , barmode = 'group'\n",
    "             , labels={'tip':'Tips'}\n",
    "             , title=\"Tip Distribution : Count of Tips\"\n",
    "             , template='plotly'\n",
    "            )"
   ]
  },
  {
   "cell_type": "markdown",
   "metadata": {},
   "source": [
    "## Faceted Histogram"
   ]
  },
  {
   "cell_type": "code",
   "execution_count": null,
   "metadata": {},
   "outputs": [],
   "source": [
    "px.histogram(data_frame=df\n",
    "             , x=\"tip\"\n",
    "             , color='sex'\n",
    "             , width=800, height=400\n",
    "             , facet_row='sex'\n",
    "             , labels={'count':'Count of Tips'}\n",
    "             , title=\"Tip Distribution : Count of Tips\"\n",
    "             , template='plotly_white'\n",
    "             )"
   ]
  },
  {
   "cell_type": "code",
   "execution_count": null,
   "metadata": {},
   "outputs": [],
   "source": [
    "px.histogram(data_frame=df\n",
    "             , x=\"tip\"\n",
    "             , color='sex'\n",
    "             , width=800, height=400\n",
    "             , facet_col='sex'\n",
    "             , labels={'count':'Count of Tips'}\n",
    "             , title=\"Tip Distribution : Count of Tips\"\n",
    "             , template='plotly_white'\n",
    "             )"
   ]
  },
  {
   "cell_type": "markdown",
   "metadata": {},
   "source": [
    "## Bar Chart"
   ]
  },
  {
   "cell_type": "code",
   "execution_count": null,
   "metadata": {},
   "outputs": [],
   "source": [
    "px.bar(data_frame=df\n",
    "       , x='day'\n",
    "       , y='tip'\n",
    "       , width=800, height=400\n",
    "       , template='plotly_white'\n",
    "       , title='Distribution of Tips by day'\n",
    "      )"
   ]
  },
  {
   "cell_type": "markdown",
   "metadata": {},
   "source": [
    "## Stacked Bar Chart"
   ]
  },
  {
   "cell_type": "code",
   "execution_count": null,
   "metadata": {},
   "outputs": [],
   "source": [
    "px.histogram(data_frame=df\n",
    "             ,x=\"day\"\n",
    "             ,y=\"tip\"\n",
    "             ,width=800, height=400\n",
    "             ,color=\"time\"\n",
    "             ,histfunc=\"count\"\n",
    "             ,title=\"Distribution of tips days | time\"\n",
    "             ,labels={'time':'Time in a day'}\n",
    "             ,template='plotly_white'\n",
    "            )"
   ]
  },
  {
   "cell_type": "markdown",
   "metadata": {},
   "source": [
    "## Boxplot:"
   ]
  },
  {
   "cell_type": "code",
   "execution_count": null,
   "metadata": {},
   "outputs": [],
   "source": [
    "px.box(data_frame=df\n",
    "    , y=\"total_bill\"\n",
    "    , width=800, height=600\n",
    "    , points=\"all\"\n",
    "    , color=\"smoker\"\n",
    "    , notched=False   \n",
    "    , title=\"Distribution of Total Bill\"\n",
    "    , template='presentation'\n",
    "    )"
   ]
  },
  {
   "cell_type": "markdown",
   "metadata": {},
   "source": [
    "## Split Box Plot"
   ]
  },
  {
   "cell_type": "code",
   "execution_count": null,
   "metadata": {},
   "outputs": [],
   "source": [
    "px.box(data_frame=df\n",
    "        , y=\"tip\"\n",
    "        , color=\"day\"\n",
    "        , title=\"Distribution of tip by day\"\n",
    "        , template='presentation'\n",
    "        )"
   ]
  },
  {
   "cell_type": "markdown",
   "metadata": {},
   "source": [
    "## Violin Plot"
   ]
  },
  {
   "cell_type": "code",
   "execution_count": null,
   "metadata": {},
   "outputs": [],
   "source": [
    "px.violin(data_frame=df\n",
    "          , y=\"tip\"\n",
    "          , box=True\n",
    "          , points=\"all\"\n",
    "          , title=\"Distribution of Tips\"\n",
    "          , template='presentation'\n",
    "         )"
   ]
  },
  {
   "cell_type": "markdown",
   "metadata": {},
   "source": [
    "## Split Violin Plot"
   ]
  },
  {
   "cell_type": "code",
   "execution_count": null,
   "metadata": {},
   "outputs": [],
   "source": [
    "px.violin(df\n",
    "        , y=\"tip\"\n",
    "        , width=800, height=400\n",
    "        , color=\"day\"\n",
    "        , box=True\n",
    "        , title=\"Distribution of Tips by day\"\n",
    "        , template='presentation'\n",
    "       )"
   ]
  },
  {
   "cell_type": "markdown",
   "metadata": {},
   "source": [
    "## Scatter Plot"
   ]
  },
  {
   "cell_type": "code",
   "execution_count": null,
   "metadata": {},
   "outputs": [],
   "source": [
    "px.scatter(data_frame=df\n",
    "           , x=\"tip\"\n",
    "           , y=\"total_bill\"\n",
    "           , width=800, height=400\n",
    "           , trendline='ols'  #ordinary least squares\n",
    "           , title='Total Bill vs Tips'\n",
    "           , hover_name='day'\n",
    "           , labels={'tip':'Tips USD', 'total_bill': 'Total_bill USD'}\n",
    "           , template='presentation'\n",
    "          )"
   ]
  },
  {
   "cell_type": "markdown",
   "metadata": {},
   "source": [
    "## Scatter Matrix"
   ]
  },
  {
   "cell_type": "code",
   "execution_count": null,
   "metadata": {},
   "outputs": [],
   "source": [
    "px.scatter_matrix(data_frame=df\n",
    "                  , dimensions=[\"total_bill\", \"tip\", \"size\"] \n",
    "                  , color=\"sex\"\n",
    "                  , symbol=\"day\" \n",
    "                  , title='Attributes Comparison'\n",
    "                  , hover_name='sex'\n",
    "                  , template='seaborn'\n",
    "                 )"
   ]
  },
  {
   "cell_type": "code",
   "execution_count": null,
   "metadata": {},
   "outputs": [],
   "source": [
    "iris = px.data.iris()\n",
    "px.scatter_matrix(iris,\n",
    "                  dimensions=[\"sepal_width\", \"sepal_length\", \"petal_width\", \"petal_length\"],\n",
    "                  color=\"species\")"
   ]
  },
  {
   "cell_type": "markdown",
   "metadata": {},
   "source": [
    "## Scatter with Marginal Plots"
   ]
  },
  {
   "cell_type": "code",
   "execution_count": null,
   "metadata": {},
   "outputs": [],
   "source": [
    "px.scatter(data_frame=df\n",
    "           , x=\"tip\"\n",
    "           , y=\"total_bill\"\n",
    "           , color=\"sex\"\n",
    "           , title='Total bill vs Tips | by sex'\n",
    "           , marginal_x='histogram'\n",
    "           , marginal_y='box'\n",
    "           , hover_name='sex'\n",
    "           , opacity=0.8\n",
    "           , template='seaborn'\n",
    "          )"
   ]
  },
  {
   "cell_type": "markdown",
   "metadata": {},
   "source": [
    "## Heat Map"
   ]
  },
  {
   "cell_type": "code",
   "execution_count": null,
   "metadata": {},
   "outputs": [],
   "source": [
    "px.density_heatmap(iris, x=\"sepal_width\", y=\"sepal_length\", marginal_x=\"histogram\", marginal_y=\"histogram\", color_continuous_scale=px.colors.sequential.Hot)"
   ]
  },
  {
   "cell_type": "markdown",
   "metadata": {},
   "source": [
    "## Update axes"
   ]
  },
  {
   "cell_type": "code",
   "execution_count": null,
   "metadata": {},
   "outputs": [],
   "source": [
    "(px.bar(df, x=\"size\", y=\"tip\", facet_row=\"time\", facet_col=\"day\", \n",
    "   color=\"sex\", title=\"Tips by Payer Sex, Party Size, Day and Meal\")\n",
    "      .update_traces(marker_line_width=0.5)\n",
    "      .update_yaxes(tickprefix=\"$\")\n",
    "      .update_layout(title_font_size=30))"
   ]
  },
  {
   "cell_type": "markdown",
   "metadata": {},
   "source": [
    "## Referencias:\n",
    "\n",
    "https://www.plotly.express/\n",
    "\n",
    "https://plot.ly/python/plotly-express/\n",
    "\n",
    "https://plot.ly/python/colorscales/\n",
    "\n",
    "https://plot.ly/python/getting-started/"
   ]
  }
 ],
 "metadata": {
  "kernelspec": {
   "display_name": "Python 3",
   "language": "python",
   "name": "python3"
  },
  "language_info": {
   "codemirror_mode": {
    "name": "ipython",
    "version": 3
   },
   "file_extension": ".py",
   "mimetype": "text/x-python",
   "name": "python",
   "nbconvert_exporter": "python",
   "pygments_lexer": "ipython3",
   "version": "3.7.7"
  },
  "toc": {
   "base_numbering": 1,
   "nav_menu": {},
   "number_sections": true,
   "sideBar": true,
   "skip_h1_title": false,
   "title_cell": "Table of Contents",
   "title_sidebar": "Contents",
   "toc_cell": false,
   "toc_position": {},
   "toc_section_display": true,
   "toc_window_display": false
  },
  "varInspector": {
   "cols": {
    "lenName": 16,
    "lenType": 16,
    "lenVar": 40
   },
   "kernels_config": {
    "python": {
     "delete_cmd_postfix": "",
     "delete_cmd_prefix": "del ",
     "library": "var_list.py",
     "varRefreshCmd": "print(var_dic_list())"
    },
    "r": {
     "delete_cmd_postfix": ") ",
     "delete_cmd_prefix": "rm(",
     "library": "var_list.r",
     "varRefreshCmd": "cat(var_dic_list()) "
    }
   },
   "types_to_exclude": [
    "module",
    "function",
    "builtin_function_or_method",
    "instance",
    "_Feature"
   ],
   "window_display": false
  }
 },
 "nbformat": 4,
 "nbformat_minor": 4
}
